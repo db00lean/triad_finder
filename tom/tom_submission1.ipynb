{
 "cells": [
  {
   "cell_type": "markdown",
   "metadata": {},
   "source": [
    "# FFT of .wav file"
   ]
  },
  {
   "cell_type": "markdown",
   "metadata": {},
   "source": [
    "## Import packages"
   ]
  },
  {
   "cell_type": "code",
   "execution_count": 138,
   "metadata": {},
   "outputs": [],
   "source": [
    "#https://docs.scipy.org/doc/scipy/tutorial/fft.html and \n",
    "from scipy.fftpack import fft, ifft\n",
    "import numpy as np\n",
    "import matplotlib.pyplot as plt\n",
    "from scipy.io import wavfile # get the api\n",
    "\n",
    "%matplotlib inline"
   ]
  },
  {
   "cell_type": "markdown",
   "metadata": {},
   "source": [
    "## Define Functions to perform FFT and plot spectrum"
   ]
  },
  {
   "cell_type": "code",
   "execution_count": 142,
   "metadata": {},
   "outputs": [],
   "source": [
    "def fft_wav(filename):\n",
    "    sampFreq, data = wavfile.read(filename)\n",
    "\n",
    "    fft_spectrum = np.fft.rfft(data)\n",
    "    freq = np.fft.rfftfreq(data.size, d=1./sampFreq)\n",
    "    fft_spectrum_abs = np.abs(fft_spectrum)\n",
    "\n",
    "    max_mag = 0\n",
    "    max_freq = 0\n",
    "    for f in range(len(freq)):\n",
    "        if (fft_spectrum_abs[f] > max_mag):\n",
    "            max_mag = fft_spectrum_abs[f]\n",
    "            max_freq = freq[f]\n",
    "    print (max_freq, max_mag)\n",
    "def plot_fft(filename):\n",
    "    sampFreq, data = wavfile.read(filename)\n",
    "\n",
    "    fft_spectrum = np.fft.rfft(data)\n",
    "    freq = np.fft.rfftfreq(data.size, d=1./sampFreq)\n",
    "    fft_spectrum_abs = np.abs(fft_spectrum)\n",
    "    \n",
    "    plt.plot(freq[:3000], fft_spectrum_abs[:3000])\n",
    "    plt.xlabel(\"frequency, Hz\")\n",
    "    plt.ylabel(\"Amplitude, units\")\n",
    "    plt.show()\n",
    "\n",
    "  "
   ]
  },
  {
   "cell_type": "markdown",
   "metadata": {},
   "source": [
    "## Running FFT on pure 100 Hz sine wave"
   ]
  },
  {
   "cell_type": "code",
   "execution_count": 143,
   "metadata": {},
   "outputs": [
    {
     "name": "stderr",
     "output_type": "stream",
     "text": [
      "/usr/lib/python3/dist-packages/scipy/io/wavfile.py:273: WavFileWarning: Chunk (non-data) not understood, skipping it.\n",
      "  WavFileWarning)\n"
     ]
    },
    {
     "name": "stdout",
     "output_type": "stream",
     "text": [
      "100.0 2499282390.723456\n",
      "100.0 2499282390.723456\n",
      "100.0 2499282390.723456\n",
      "100.0 2499282390.723456\n",
      "1 loop, best of 3: 479 ms per loop\n"
     ]
    },
    {
     "data": {
      "image/png": "[encoded data removed]",
      "text/plain": [
       "<matplotlib.figure.Figure at 0xaf5ac9f0>"
      ]
     },
     "metadata": {},
     "output_type": "display_data"
    }
   ],
   "source": [
    "filename = '100hz.wav'\n",
    "%timeit fft_wav(filename)\n",
    "plot_fft(filename)\n",
    "#warning due to mono format of wav file -- safe to ignore"
   ]
  },
  {
   "cell_type": "markdown",
   "metadata": {},
   "source": [
    "## Running FFT on audio recording of open E string (~ 82 Hz)"
   ]
  },
  {
   "cell_type": "code",
   "execution_count": 146,
   "metadata": {},
   "outputs": [
    {
     "name": "stdout",
     "output_type": "stream",
     "text": [
      "82.57935664811117 420432729.20304656\n",
      "82.57935664811117 420432729.20304656\n",
      "82.57935664811117 420432729.20304656\n",
      "82.57935664811117 420432729.20304656\n",
      "1 loop, best of 3: 2.13 s per loop\n"
     ]
    },
    {
     "data": {
      "image/png": "[encoded data removed]",
      "text/plain": [
       "<matplotlib.figure.Figure at 0xad5ecfb0>"
      ]
     },
     "metadata": {},
     "output_type": "display_data"
    }
   ],
   "source": [
    "filename = 'lowE.wav'\n",
    "%timeit fft_wav(filename)\n",
    "plot_fft(filename)\n",
    "#Processing takes longer because harmonics are included since this is a real guitar note rather than a sine wave\n",
    "#Fundamental frequency of 82 Hz"
   ]
  },
  {
   "cell_type": "code",
   "execution_count": null,
   "metadata": {},
   "outputs": [],
   "source": []
  }
 ],
 "metadata": {
  "kernelspec": {
   "display_name": "Python 3",
   "language": "python",
   "name": "python3"
  },
  "language_info": {
   "codemirror_mode": {
    "name": "ipython",
    "version": 3
   },
   "file_extension": ".py",
   "mimetype": "text/x-python",
   "name": "python",
   "nbconvert_exporter": "python",
   "pygments_lexer": "ipython3",
   "version": "3.6.5"
  }
 },
 "nbformat": 4,
 "nbformat_minor": 2
}
