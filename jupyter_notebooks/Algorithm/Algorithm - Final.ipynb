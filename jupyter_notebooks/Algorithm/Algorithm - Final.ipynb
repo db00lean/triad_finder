{
 "cells": [
  {
   "cell_type": "code",
   "execution_count": 61,
   "metadata": {},
   "outputs": [],
   "source": [
    "from pynq import Overlay\n",
    "import numpy as np\n",
    "import random\n",
    "from pynq import allocate\n",
    "import matplotlib.pyplot as plt\n",
    "from scipy.io import wavfile\n",
    "from time import sleep"
   ]
  },
  {
   "cell_type": "markdown",
   "metadata": {},
   "source": [
    "# Functions"
   ]
  },
  {
   "cell_type": "code",
   "execution_count": 14,
   "metadata": {},
   "outputs": [],
   "source": [
    "FILE_1 = \"E7_chord_trimmed.wav\"\n",
    "FILE_2 = \"E_string_sample.wav\"\n",
    "\n",
    "def read_wav(filename):\n",
    "    return wavfile.read(filename)\n",
    "\n",
    "def plot_wav(sample_rate, data):\n",
    "    length = data.shape[0] / sample_rate\n",
    "    \n",
    "    # prints the information from the file\n",
    "    print(f\"Recording length: {length:.3f}s\")\n",
    "    print(f\"Sample Rate: {sample_rate}Hz\")\n",
    "    \n",
    "    # creates a time array for plotting\n",
    "    time = np.linspace(0., length, data.shape[0])\n",
    "    \n",
    "    # uses matplot.lib for plotting functions, plotting both audio channels\n",
    "    plt.plot(time, data[:, 0], label=\"Left channel\")\n",
    "    plt.plot(time, data[:, 1], label=\"Right channel\")\n",
    "    plt.legend()\n",
    "    plt.xlabel(\"Time [s]\")\n",
    "    plt.ylabel(\"Amplitude\")\n",
    "    plt.show()\n",
    "\n",
    "def do_fft(signal, sample_rate):\n",
    "    fft_spectrum = np.fft.rfft(signal)\n",
    "    freq = np.fft.rfftfreq(signal.size, d=1./sample_rate)  # get frequency values of FFT\n",
    "    fft_spectrum_abs = np.abs(fft_spectrum)  # compute absolute value of FFT plot\n",
    "    return freq, fft_spectrum_abs\n",
    "\n",
    "class Max:\n",
    "    def __init__(self):\n",
    "        self.ampl = 0\n",
    "        self.freq = 0\n",
    "        self.lwr_bnd = 0\n",
    "        self.upr_bnd = 0\n",
    "    \n",
    "    def calc_bounds(self, freq):\n",
    "        self.lwr_bnd = freq - ((freq * 0.0280645232089) - 0.000609838013018)\n",
    "        self.upr_bnd = freq + ((freq * 0.0297331943366) - 0.000226403391093)\n",
    "    \n",
    "    def in_freq_rng(self, freq) -> bool: \n",
    "        return self.lwr_bnd < freq < self.upr_bnd\n",
    "            \n",
    "def get_top_max(freq_array, fft_array, n):\n",
    "    max_arr = [Max() for _ in range(n)]\n",
    "    for i in range(len(freq_array)):\n",
    "        compare_ampl = fft_array[i]\n",
    "        compare_freq = freq_array[i]\n",
    "        \n",
    "        swap = False\n",
    "        for _ in range(n):\n",
    "            if max_arr[_].in_freq_rng(compare_freq):\n",
    "                swap = True\n",
    "            if max_arr[_].ampl < compare_ampl:\n",
    "                temp_ampl = max_arr[_].ampl\n",
    "                temp_freq = max_arr[_].freq\n",
    "                max_arr[_].ampl = compare_ampl\n",
    "                max_arr[_].freq = compare_freq\n",
    "                max_arr[_].calc_bounds(compare_freq)\n",
    "                compare_ampl = temp_ampl\n",
    "                compare_freq = temp_freq\n",
    "                if swap or any([max_arr[z].in_freq_rng(temp_freq) for z in range(n)]):\n",
    "                    break\n",
    "            if swap:\n",
    "                break\n",
    "    return [max_arr[_].freq for _ in range(n)]\n",
    "\n",
    "def get_lwr_bnd(freq):\n",
    "    return freq - ((freq * 0.0280645232089) - 0.000609838013018)\n",
    "\n",
    "\n",
    "def get_upr_bnd(freq):\n",
    "    return freq + ((freq * 0.0297331943366) - 0.000226403391093)\n",
    "\n",
    "\n",
    "def overlap(base_freq, compare_freq) -> bool:\n",
    "    for i in range(9):\n",
    "        lwr_bnd = get_lwr_bnd(base_freq) * (2 ** i)\n",
    "        upr_bnd = get_upr_bnd(base_freq) * (2 ** i)\n",
    "        in_rng = (lwr_bnd < compare_freq) and (compare_freq < upr_bnd)\n",
    "        if in_rng:\n",
    "            return True\n",
    "    return False\n",
    "\n",
    "\n",
    "def get_top_3(fft_array):\n",
    "    max_ampl_1 = 0\n",
    "    max_freq_1 = 0\n",
    "    max_ampl_2 = 0\n",
    "    max_freq_2 = 0\n",
    "    max_ampl_3 = 0\n",
    "    max_freq_3 = 0\n",
    "\n",
    "    temp_ampl = 0\n",
    "    temp_freq = 0\n",
    "    swap = False\n",
    "\n",
    "    for i in range(len(fft_array)):\n",
    "\n",
    "        swap = False\n",
    "        comp_ampl = fft_array[i]\n",
    "        comp_freq = i\n",
    "\n",
    "        if max_ampl_1 < comp_ampl:\n",
    "            if overlap(max_freq_1, comp_freq):\n",
    "                swap = True\n",
    "            temp_ampl = max_ampl_1\n",
    "            temp_freq = max_freq_1\n",
    "            max_ampl_1 = comp_ampl\n",
    "            max_freq_1 = comp_freq\n",
    "            comp_ampl = temp_ampl\n",
    "            comp_freq = temp_freq\n",
    "            if swap:\n",
    "                continue\n",
    "        elif overlap(max_freq_1, comp_freq):\n",
    "            continue\n",
    "\n",
    "        if max_ampl_2 < comp_ampl:\n",
    "            if overlap(max_freq_2, comp_freq):\n",
    "                swap = True\n",
    "            temp_ampl = max_ampl_2\n",
    "            temp_freq = max_freq_2\n",
    "            max_ampl_2 = comp_ampl\n",
    "            max_freq_2 = comp_freq\n",
    "            comp_ampl = temp_ampl\n",
    "            comp_freq = temp_freq\n",
    "            if swap:\n",
    "                continue\n",
    "        elif overlap(max_freq_2, comp_freq):\n",
    "            continue\n",
    "\n",
    "        if max_ampl_3 < comp_ampl:\n",
    "            max_ampl_3 = comp_ampl\n",
    "            max_freq_3 = comp_freq\n",
    "\n",
    "    return max_freq_1, max_freq_2, max_freq_3\n",
    "\n",
    "def get_note(pitch_freq, exact=True, split=False):\n",
    "    CONCERT_PITCH = 440  # tuning standard in music\n",
    "    ALL_NOTES = [\"A\", \"A#\", \"B\", \"C\", \"C#\", \"D\", \"D#\", \"E\", \"F\", \"F#\", \"G\", \"G#\"]  # musical notes arranged properly\n",
    "    i = int(np.round(np.log2(pitch_freq / CONCERT_PITCH) * 12))\n",
    "    ret = (ALL_NOTES[i % 12], 4 + (i + 9) // 12) if split else ALL_NOTES[i % 12] + (str(4 + (i + 9) // 12) if exact else \"\")\n",
    "    return ret\n",
    "\n",
    "# def get_chord(freq):\n",
    "#     notes = [get_note(i, exact=False) for i in freq]\n",
    "#     notes = [x for _, x in sorted(zip(freq, notes))]\n",
    "#     for n in notes[:]:\n",
    "#         if 'a' in n.lower() or 'b' in n.lower():\n",
    "#             notes.remove(n)\n",
    "#             notes.append(n)\n",
    "#     triads = chords.determine(notes)\n",
    "#     if triads:\n",
    "#         return triads[0]\n",
    "#     return None\n",
    "\n",
    "def read_fft_file():\n",
    "    with open(\"fftdata.txt\", 'r') as f:\n",
    "        data = [float(_) for _ in f.readlines()]\n",
    "    return data"
   ]
  },
  {
   "cell_type": "markdown",
   "metadata": {},
   "source": [
    "# Setup"
   ]
  },
  {
   "cell_type": "code",
   "execution_count": 89,
   "metadata": {},
   "outputs": [],
   "source": [
    "sample_rate, data = read_wav(FILE_1)\n",
    "freq, fft = do_fft(data[22050:66150,0], sample_rate)\n",
    "\n",
    "# plot_wav(sample_rate, data)\n",
    "\n",
    "SAMPLES = 1024"
   ]
  },
  {
   "cell_type": "markdown",
   "metadata": {},
   "source": [
    "# MAX"
   ]
  },
  {
   "cell_type": "markdown",
   "metadata": {},
   "source": [
    "## Software"
   ]
  },
  {
   "cell_type": "code",
   "execution_count": 86,
   "metadata": {},
   "outputs": [],
   "source": [
    "def max_sw():\n",
    "    return get_top_max(freq[:SAMPLES], fft[:SAMPLES], 1)"
   ]
  },
  {
   "cell_type": "code",
   "execution_count": 87,
   "metadata": {},
   "outputs": [
    {
     "name": "stdout",
     "output_type": "stream",
     "text": [
      "Recorded Note: B2 (124.0Hz)\n"
     ]
    }
   ],
   "source": [
    "freq = max_sw()\n",
    "print(f\"Recorded Note: {get_note(freq[0])} ({freq[0]}Hz)\")"
   ]
  },
  {
   "cell_type": "code",
   "execution_count": 88,
   "metadata": {},
   "outputs": [
    {
     "name": "stdout",
     "output_type": "stream",
     "text": [
      "10000 loops, best of 3: 132 µs per loop\n"
     ]
    }
   ],
   "source": [
    "%timeit max_sw()"
   ]
  },
  {
   "cell_type": "markdown",
   "metadata": {},
   "source": [
    "## Hardware"
   ]
  },
  {
   "cell_type": "code",
   "execution_count": 93,
   "metadata": {},
   "outputs": [],
   "source": [
    "max_overlay = Overlay(\"/home/xilinx/pynq/overlays/maxVal/maxValue2.bit\")\n",
    "max_ip = max_overlay.max_DMA.get_top_freq_0\n",
    "max_dma = max_overlay.max_DMA.axi_dma_0\n",
    "input_buffer = allocate(shape=SAMPLES, dtype=np.csingle)\n",
    "input_buffer[:] = fft[:SAMPLES]"
   ]
  },
  {
   "cell_type": "code",
   "execution_count": 94,
   "metadata": {},
   "outputs": [],
   "source": [
    "def max_hw():\n",
    "    max_dma.sendchannel.transfer(input_buffer)\n",
    "    max_dma.sendchannel.wait()\n",
    "    return max_ip.read(0x10)"
   ]
  },
  {
   "cell_type": "code",
   "execution_count": 95,
   "metadata": {},
   "outputs": [
    {
     "name": "stdout",
     "output_type": "stream",
     "text": [
      "Recorded Note: B2 (124Hz)\n"
     ]
    }
   ],
   "source": [
    "freq = max_hw()\n",
    "print(f\"Recorded Note: {get_note(freq)} ({freq:}Hz)\")"
   ]
  },
  {
   "cell_type": "code",
   "execution_count": 96,
   "metadata": {},
   "outputs": [
    {
     "name": "stdout",
     "output_type": "stream",
     "text": [
      "1000 loops, best of 3: 312 µs per loop\n"
     ]
    }
   ],
   "source": [
    "%timeit max_hw()"
   ]
  },
  {
   "cell_type": "markdown",
   "metadata": {},
   "source": [
    "# TOP"
   ]
  },
  {
   "cell_type": "markdown",
   "metadata": {},
   "source": [
    "## Software"
   ]
  },
  {
   "cell_type": "code",
   "execution_count": 56,
   "metadata": {},
   "outputs": [],
   "source": [
    "def top_sw():\n",
    "    return get_top_3(fft[:SAMPLES])"
   ]
  },
  {
   "cell_type": "code",
   "execution_count": 57,
   "metadata": {},
   "outputs": [
    {
     "name": "stdout",
     "output_type": "stream",
     "text": [
      "Recorded Note: B2 (124Hz)\n",
      "Recorded Note: E2 (82Hz)\n",
      "Recorded Note: G#3 (209Hz)\n"
     ]
    }
   ],
   "source": [
    "freq = top_sw()\n",
    "for f in freq:\n",
    "    print(f\"Recorded Note: {get_note(f)} ({f:}Hz)\")"
   ]
  },
  {
   "cell_type": "code",
   "execution_count": 58,
   "metadata": {},
   "outputs": [
    {
     "name": "stdout",
     "output_type": "stream",
     "text": [
      "1 loop, best of 3: 205 ms per loop\n"
     ]
    }
   ],
   "source": [
    "%timeit top_sw()"
   ]
  },
  {
   "cell_type": "markdown",
   "metadata": {},
   "source": [
    "## Hardware"
   ]
  },
  {
   "cell_type": "code",
   "execution_count": 64,
   "metadata": {},
   "outputs": [],
   "source": [
    "top_overlay = Overlay(\"/home/xilinx/pynq/overlays/top_overlay/top_overlay/top_3.bit\")\n",
    "top_ip = top_overlay.get_top_3_0\n",
    "top_dma = top_overlay.axi_dma_0\n",
    "\n",
    "input_buffer = allocate(shape=(SAMPLES,), dtype=np.csingle)\n",
    "input_buffer[:] = fft[:SAMPLES]"
   ]
  },
  {
   "cell_type": "code",
   "execution_count": 65,
   "metadata": {},
   "outputs": [],
   "source": [
    "def top_hw(scale_factor=1):\n",
    "    top_ip.write(0x10, int(scale_factor))\n",
    "    top_dma.sendchannel.transfer(input_buffer)\n",
    "    top_dma.sendchannel.wait()\n",
    "    return top_ip.read(0x18), top_ip.read(0x20), top_ip.read(0x28)"
   ]
  },
  {
   "cell_type": "code",
   "execution_count": 66,
   "metadata": {},
   "outputs": [
    {
     "name": "stdout",
     "output_type": "stream",
     "text": [
      "Recorded Note: B2 (124Hz)\n",
      "Recorded Note: E2 (82Hz)\n",
      "Recorded Note: G#3 (209Hz)\n"
     ]
    }
   ],
   "source": [
    "freq = top_hw()\n",
    "for f in freq:\n",
    "    print(f\"Recorded Note: {get_note(f)} ({f:}Hz)\")"
   ]
  },
  {
   "cell_type": "code",
   "execution_count": 67,
   "metadata": {},
   "outputs": [
    {
     "name": "stdout",
     "output_type": "stream",
     "text": [
      "100 loops, best of 3: 8.52 ms per loop\n"
     ]
    }
   ],
   "source": [
    "%timeit top_hw()"
   ]
  }
 ],
 "metadata": {
  "kernelspec": {
   "display_name": "Python 3",
   "language": "python",
   "name": "python3"
  },
  "language_info": {
   "codemirror_mode": {
    "name": "ipython",
    "version": 3
   },
   "file_extension": ".py",
   "mimetype": "text/x-python",
   "name": "python",
   "nbconvert_exporter": "python",
   "pygments_lexer": "ipython3",
   "version": "3.6.5"
  }
 },
 "nbformat": 4,
 "nbformat_minor": 2
}
