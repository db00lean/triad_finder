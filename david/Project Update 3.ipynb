{
 "cells": [
  {
   "cell_type": "code",
   "execution_count": 567,
   "metadata": {},
   "outputs": [],
   "source": [
    "from pynq import Overlay\n",
    "import numpy as np\n",
    "import random\n",
    "from pynq import allocate\n",
    "from scipy.io import wavfile\n",
    "\n",
    "overlay = Overlay(\"/home/xilinx/pynq/overlays/maxVal/maxValue2.bit\")\n",
    "SAMPLES = 1024"
   ]
  },
  {
   "cell_type": "code",
   "execution_count": 575,
   "metadata": {},
   "outputs": [],
   "source": [
    "# FILE = \"E7_chord_trimmed.wav\"\n",
    "FILE = \"E_string_sample.wav\"\n",
    "\n",
    "def read_wav(filename):\n",
    "    return wavfile.read(filename)\n",
    "\n",
    "def do_fft(signal, sample_rate):\n",
    "    fft_spectrum = np.fft.rfft(signal)\n",
    "    freq = np.fft.rfftfreq(signal.size, d=1./sample_rate)  # get frequency values of FFT\n",
    "    fft_spectrum_abs = np.abs(fft_spectrum)  # compute absolute value of FFT plot\n",
    "    return freq, fft_spectrum_abs\n",
    "\n",
    "sample_rate, data = read_wav(FILE)\n",
    "freq, fft = do_fft(data[22050:66150,0], sample_rate) # only use one channel, 1 second of data\n",
    "buffer = fft[:SAMPLES]"
   ]
  },
  {
   "cell_type": "code",
   "execution_count": 576,
   "metadata": {},
   "outputs": [],
   "source": [
    "max_ip = overlay.max_DMA.get_top_freq_0\n",
    "dma = overlay.max_DMA.axi_dma_0\n",
    "input_buffer = allocate(shape=(SAMPLES,), dtype=np.csingle)"
   ]
  },
  {
   "cell_type": "code",
   "execution_count": 577,
   "metadata": {},
   "outputs": [
    {
     "name": "stdout",
     "output_type": "stream",
     "text": [
      "[4.7439355e+09+0.j 5.2450022e+09+0.j 5.8148101e+09+0.j ...\n",
      " 2.2777695e+09+0.j 2.6484434e+09+0.j 2.1551035e+09+0.j]\n"
     ]
    }
   ],
   "source": [
    "input_buffer[:] = buffer\n",
    "print(input_buffer)"
   ]
  },
  {
   "cell_type": "code",
   "execution_count": 578,
   "metadata": {},
   "outputs": [],
   "source": [
    "def run_kernel():\n",
    "    dma.sendchannel.transfer(input_buffer)\n",
    "    dma.sendchannel.wait()"
   ]
  },
  {
   "cell_type": "code",
   "execution_count": 579,
   "metadata": {},
   "outputs": [],
   "source": [
    "run_kernel()"
   ]
  },
  {
   "cell_type": "code",
   "execution_count": 580,
   "metadata": {},
   "outputs": [
    {
     "data": {
      "text/plain": [
       "1329"
      ]
     },
     "execution_count": 580,
     "metadata": {},
     "output_type": "execute_result"
    }
   ],
   "source": [
    "max_ip.write(0x00, 0x1)\n",
    "max_ip.read(0x10)"
   ]
  },
  {
   "cell_type": "code",
   "execution_count": 581,
   "metadata": {},
   "outputs": [
    {
     "name": "stdout",
     "output_type": "stream",
     "text": [
      "305\n"
     ]
    }
   ],
   "source": [
    "print(np.argmax(input_buffer))"
   ]
  },
  {
   "cell_type": "code",
   "execution_count": 582,
   "metadata": {},
   "outputs": [
    {
     "data": {
      "text/plain": [
       "RegisterMap {\n",
       "  top_freq = Register(top_freq=1329),\n",
       "  top_freq_ctrl = Register(top_freq_ap_vld=1, RESERVED=0)\n",
       "}"
      ]
     },
     "execution_count": 582,
     "metadata": {},
     "output_type": "execute_result"
    }
   ],
   "source": [
    "max_ip.register_map"
   ]
  },
  {
   "cell_type": "code",
   "execution_count": null,
   "metadata": {},
   "outputs": [],
   "source": []
  },
  {
   "cell_type": "code",
   "execution_count": null,
   "metadata": {},
   "outputs": [],
   "source": []
  }
 ],
 "metadata": {
  "kernelspec": {
   "display_name": "Python 3",
   "language": "python",
   "name": "python3"
  },
  "language_info": {
   "codemirror_mode": {
    "name": "ipython",
    "version": 3
   },
   "file_extension": ".py",
   "mimetype": "text/x-python",
   "name": "python",
   "nbconvert_exporter": "python",
   "pygments_lexer": "ipython3",
   "version": "3.6.5"
  }
 },
 "nbformat": 4,
 "nbformat_minor": 2
}
