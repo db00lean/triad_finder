{
 "cells": [
  {
   "cell_type": "markdown",
   "metadata": {},
   "source": [
    "# Initial Implementation\n",
    "\n",
    "## Library Imports\n",
    "\n",
    "Here, the necessary libraries are imported"
   ]
  },
  {
   "cell_type": "code",
   "execution_count": 1,
   "metadata": {},
   "outputs": [],
   "source": [
    "import matplotlib.pyplot as plt\n",
    "import numpy as np\n",
    "from scipy.io import wavfile"
   ]
  },
  {
   "cell_type": "markdown",
   "metadata": {},
   "source": [
    "## Filename\n",
    "\n",
    "This declares the filename variable for the sample wavefile. It is a recording of an Bass E string strum, from [this recording](https://freesound.org/people/Kyster/sounds/117677/) on freesound.org."
   ]
  },
  {
   "cell_type": "code",
   "execution_count": 12,
   "metadata": {},
   "outputs": [],
   "source": [
    "FILE = \"E7_chord_trimmed.wav\""
   ]
  },
  {
   "cell_type": "markdown",
   "metadata": {},
   "source": [
    "## Reading the file\n",
    "\n",
    "Here the file is read using the scipy.io.wavefile.read() function, which pulls the sample rate and the raw data. "
   ]
  },
  {
   "cell_type": "code",
   "execution_count": 3,
   "metadata": {},
   "outputs": [],
   "source": [
    "def read_wav(filename):\n",
    "    return wavfile.read(filename)"
   ]
  },
  {
   "cell_type": "markdown",
   "metadata": {},
   "source": [
    "## Plotting wavefile\n",
    "\n",
    "This function plots the data that was read from the wavefile."
   ]
  },
  {
   "cell_type": "code",
   "execution_count": 4,
   "metadata": {},
   "outputs": [],
   "source": [
    "def plot_wav(sample_rate, data):\n",
    "    length = data.shape[0] / sample_rate\n",
    "    \n",
    "    # prints the information from the file\n",
    "    print(f\"Recording length: {length:.3f}s\")\n",
    "    print(f\"Sample Rate: {sample_rate}Hz\")\n",
    "    \n",
    "    # creates a time array for plotting\n",
    "    time = np.linspace(0., length, data.shape[0])\n",
    "    \n",
    "    # uses matplot.lib for plotting functions, plotting both audio channels\n",
    "    plt.plot(time, data[:, 0], label=\"Left channel\")\n",
    "    plt.plot(time, data[:, 1], label=\"Right channel\")\n",
    "    plt.legend()\n",
    "    plt.xlabel(\"Time [s]\")\n",
    "    plt.ylabel(\"Amplitude\")\n",
    "    plt.show()"
   ]
  },
  {
   "cell_type": "markdown",
   "metadata": {},
   "source": [
    "## Perform FFT\n",
    "\n",
    "This uses the numpy real FFT function to do a real-FFT on the data inputted to the function."
   ]
  },
  {
   "cell_type": "code",
   "execution_count": 5,
   "metadata": {},
   "outputs": [],
   "source": [
    "def do_fft(signal, sample_rate):\n",
    "    fft_spectrum = np.fft.rfft(signal)\n",
    "    freq = np.fft.rfftfreq(signal.size, d=1./sample_rate)  # get frequency values of FFT\n",
    "    fft_spectrum_abs = np.abs(fft_spectrum)  # compute absolute value of FFT plot\n",
    "    return freq, fft_spectrum_abs"
   ]
  },
  {
   "cell_type": "markdown",
   "metadata": {},
   "source": [
    "## Plot FFT\n",
    "\n",
    "This function takes in the frequency and FFT datasets and plots them using the matplot.lib functions."
   ]
  },
  {
   "cell_type": "code",
   "execution_count": 61,
   "metadata": {},
   "outputs": [],
   "source": [
    "def plot_fft(freq_array, fft_array):\n",
    "    plt.plot(freq_array, fft_array)\n",
    "#     fft_array = [n / min(fft_array) for n in fft_array]\n",
    "    max(fft_array)\n",
    "#     n, bins, patches = plt.hist(fft_array,color='blue', alpha=0.5)\n",
    "    plt.xlabel(\"frequency, Hz\")\n",
    "    plt.ylabel(\"Amplitude, units\")\n",
    "    plt.show()"
   ]
  },
  {
   "cell_type": "code",
   "execution_count": 60,
   "metadata": {},
   "outputs": [
    {
     "data": {
      "image/png": "[encoded data removed]",
      "text/plain": [
       "<matplotlib.figure.Figure at 0xaddbb0b0>"
      ]
     },
     "metadata": {},
     "output_type": "display_data"
    }
   ],
   "source": [
    "s = [i for i in range(10)]\n",
    "k = [i**2 for i in range(900,1000)]\n",
    "plot_fft(s,k)"
   ]
  },
  {
   "cell_type": "markdown",
   "metadata": {},
   "source": [
    "## Get Max frequency\n",
    "\n",
    "This function returns the frequency (in Hz) of the maximum amplitude from the FFT dataset and looking it up in the frequency dataset."
   ]
  },
  {
   "cell_type": "code",
   "execution_count": 88,
   "metadata": {},
   "outputs": [],
   "source": [
    "def get_top3_freq(freq_array, fft_array):\n",
    "    freq = set()\n",
    "    freq_array,fft_array = list(freq_array), list(fft_array)\n",
    "    while len(freq) < 3:\n",
    "        index_max = fft_array.index(max(fft_array))\n",
    "        fft_array.pop(index_max)\n",
    "        freq_array.pop(index_max)\n",
    "        val = float(freq_array[index_max])\n",
    "#         i = np.where(fft_array == max(fft_array))\n",
    "#         val = float(freq_array[i[0]])\n",
    "        if val not in freq:\n",
    "            freq.add(val)\n",
    "        #np.delete(fft_array, fft_array[i[0]])\n",
    "        #np.delete(freq_array, freq_array[i[0]])\n",
    "        print(len(fft_array))\n",
    "    return freq"
   ]
  },
  {
   "cell_type": "code",
   "execution_count": 424,
   "metadata": {},
   "outputs": [],
   "source": [
    "class Max:\n",
    "    def __init__(self):\n",
    "        self.ampl = 0\n",
    "        self.freq = 0\n",
    "        self.lwr_bnd = 0\n",
    "        self.upr_bnd = 0\n",
    "    \n",
    "    def calc_bounds(self):\n",
    "        if self.freq:\n",
    "            self.lwr_bnd = self.freq - ((self.freq * 0.0280645232089) - 0.000609838013018)\n",
    "            self.upr_bnd = self.freq + ((self.freq * 0.0297331943366) - 0.000226403391093)\n",
    "    \n",
    "    def in_freq_rng(self, freq) -> bool: \n",
    "        return self.lwr_bnd < freq < self.upr_bnd\n",
    "            \n",
    "def get_top(freq_array, fft_array, n):\n",
    "    max_arr = [Max() for _ in range(n)]\n",
    "    for i in range(len(freq_array)):\n",
    "        \n",
    "        curr_freq = freq_array[i]\n",
    "        curr_ampl = fft_array[i]\n",
    "        \n",
    "        compare_ampl = curr_ampl\n",
    "        compare_freq = curr_freq\n",
    "        for _ in range(n):\n",
    "            swap = False\n",
    "            if max_arr[_].in_freq_rng(compare_freq):\n",
    "                swap = True\n",
    "            if max_arr[_].ampl < compare_ampl:\n",
    "                temp_ampl = max_arr[_].ampl\n",
    "                temp_freq = max_arr[_].freq\n",
    "                max_arr[_].ampl = compare_ampl\n",
    "                max_arr[_].freq = compare_freq\n",
    "                max_arr[_].calc_bounds()\n",
    "                if swap:\n",
    "                    swap = False\n",
    "                    break\n",
    "                compare_ampl = temp_ampl\n",
    "                compare_freq = temp_freq\n",
    "            elif swap:\n",
    "                break\n",
    "    return [max_arr[_].freq for _ in range(n)]"
   ]
  },
  {
   "cell_type": "code",
   "execution_count": 419,
   "metadata": {},
   "outputs": [
    {
     "name": "stdout",
     "output_type": "stream",
     "text": [
      "[119.0, 82.0, 125.0]\n"
     ]
    }
   ],
   "source": [
    "a = [63.0, 82.0, 119.0, 125.0, 260.0, 555.0]\n",
    "b = [2, 5, 6, 4, 3, 1]\n",
    "print(get_top(a,b, 3))"
   ]
  },
  {
   "cell_type": "markdown",
   "metadata": {},
   "source": [
    "## Get Closest Note\n",
    "\n",
    "This function returns the string of the closest note depending on the pitch frequency given."
   ]
  },
  {
   "cell_type": "code",
   "execution_count": 8,
   "metadata": {},
   "outputs": [],
   "source": [
    "def get_note(pitch_freq):\n",
    "    CONCERT_PITCH = 440 # tuning standard in music\n",
    "    ALL_NOTES = [\"A\",\"A#\",\"B\",\"C\",\"C#\",\"D\",\"D#\",\"E\",\"F\",\"F#\",\"G\",\"G#\"] # musical notes arranged properly\n",
    "    i = int(np.round(np.log2(pitch_freq/CONCERT_PITCH)*12))\n",
    "    return ALL_NOTES[i % 12] + str(4 + (i + 9) // 12)"
   ]
  },
  {
   "cell_type": "markdown",
   "metadata": {},
   "source": [
    "## Run for timeit\n",
    "\n",
    "This function runs all the function without the plots in order for software implementation timing."
   ]
  },
  {
   "cell_type": "code",
   "execution_count": 9,
   "metadata": {},
   "outputs": [],
   "source": [
    "def run_timed():\n",
    "    sample_rate, data = read_wav(FILE)\n",
    "    freq, fft = do_fft(data[:sample_rate,0], sample_rate) # only use one channel, 1 second of data\n",
    "    wav_freq = get_freq(freq, fft)\n",
    "    note = get_note(wav_freq)"
   ]
  },
  {
   "cell_type": "code",
   "execution_count": 165,
   "metadata": {},
   "outputs": [
    {
     "name": "stdout",
     "output_type": "stream",
     "text": [
      "10 loops, best of 3: 85.8 ms per loop\n"
     ]
    }
   ],
   "source": [
    "%timeit run_timed()"
   ]
  },
  {
   "cell_type": "markdown",
   "metadata": {},
   "source": [
    "## Run\n",
    "\n",
    "This function runs the all the functions with the plots for visualization of the data."
   ]
  },
  {
   "cell_type": "code",
   "execution_count": 422,
   "metadata": {},
   "outputs": [],
   "source": [
    "def run():\n",
    "    sample_rate, data = read_wav(FILE)\n",
    "    plot_wav(sample_rate, data)\n",
    "    freq, fft = do_fft(data[22050:66150,0], sample_rate) # only use one channel, 1 second of data\n",
    "    plot_fft(freq[:500], fft[:500])\n",
    "    wav_freq = get_top(freq[:500], fft[:500], 5)\n",
    "    print(f\"Recording Frequency: {*wav_freq,}Hz\")\n",
    "    for n in wav_freq:\n",
    "        note = get_note(n)\n",
    "        print(\"Recording Note: \" + note)"
   ]
  },
  {
   "cell_type": "code",
   "execution_count": 423,
   "metadata": {},
   "outputs": [
    {
     "name": "stdout",
     "output_type": "stream",
     "text": [
      "Recording length: 5.616s\n",
      "Sample Rate: 44100Hz\n"
     ]
    },
    {
     "data": {
      "image/png": "[encoded data removed]",
      "text/plain": [
       "<matplotlib.figure.Figure at 0xadd6f8d0>"
      ]
     },
     "metadata": {},
     "output_type": "display_data"
    },
    {
     "data": {
      "image/png": "[encoded data removed]",
      "text/plain": [
       "<matplotlib.figure.Figure at 0xade35ff0>"
      ]
     },
     "metadata": {},
     "output_type": "display_data"
    },
    {
     "name": "stdout",
     "output_type": "stream",
     "text": [
      "Recording Frequency: (124.0, 82.0, 209.0, 148.0, 297.0)Hz\n",
      "Recording Note: B2\n",
      "Recording Note: E2\n",
      "Recording Note: G#3\n",
      "Recording Note: D3\n",
      "Recording Note: D4\n"
     ]
    }
   ],
   "source": [
    "run()"
   ]
  },
  {
   "cell_type": "code",
   "execution_count": 403,
   "metadata": {},
   "outputs": [
    {
     "ename": "IndentationError",
     "evalue": "unexpected indent (<ipython-input-403-15eec47084ac>, line 28)",
     "output_type": "error",
     "traceback": [
      "\u001b[0;36m  File \u001b[0;32m\"<ipython-input-403-15eec47084ac>\"\u001b[0;36m, line \u001b[0;32m28\u001b[0m\n\u001b[0;31m    x      x     x      x     x       x            x      x       x\u001b[0m\n\u001b[0m    ^\u001b[0m\n\u001b[0;31mIndentationError\u001b[0m\u001b[0;31m:\u001b[0m unexpected indent\n"
     ]
    }
   ],
   "source": [
    "v_124 = 20514508.7 \n",
    "v_82  = 14321464.1\n",
    "v_209 = 12868846.7\n",
    "v_210 = 12008986.5 # r\n",
    "v_148 = 10233204.8\n",
    "v_297 =  8104912.6\n",
    "v_334 =  6919234.1\n",
    "v_296 =  6843455.3 # r\n",
    "v_419 =  6598724.4\n",
    "v_333 =  5419576.0 # r\n",
    "v_125 =  5308119.5 # r\n",
    "v_123 =  5222202.3 # r\n",
    "v_164 =  4828045.6\n",
    "v_249 =  3099172.9\n",
    "v_211 =  3094717.8 # r\n",
    "v_420 =  3002678.3 # r\n",
    "v_147 =  2797263.0 # r\n",
    "v_208 =  2745627.3 # r\n",
    "v_295 =  2728236.5 # r\n",
    "v_83  =  2606114.6 # r\n",
    "v_248 =  2120154.4 # r\n",
    "v_214 =  1676738.3 # r\n",
    "v_373 =  1642846.3\n",
    "v_80  =  1590862.6 # r\n",
    "v_60 =   1216498.6\n",
    "\n",
    "N=10\n",
    "  x      x     x      x     x       x            x      x       x\n",
    "164.0, 82.0, 297.0, 124.0, 334.0, 419.0, 373.0, 249.0, 148.0, 209.0\n",
    "\n",
    "N=11\n",
    "  x     x       x     x      x             x       x    x      x  \n",
    "297.0, 82.0, 334.0, 124.0, 419.0, 373.0, 249.0, 148.0, 209.0, 164.0, 60.0\n",
    "\n"
   ]
  },
  {
   "cell_type": "markdown",
   "metadata": {},
   "source": [
    "## Expected Result\n",
    "\n",
    "According to this [link](https://en.wikipedia.org/wiki/Guitar_tunings), the Bass E4 string (what the recording contains) should be 329.63Hz. The code should produce a number rather similar to the expected value (might be a little off, ~332Hz). The get_node function should then return as the closest node according to the given frequency of ~332Hz, which is the E4 note."
   ]
  }
 ],
 "metadata": {
  "kernelspec": {
   "display_name": "Python 3",
   "language": "python",
   "name": "python3"
  },
  "language_info": {
   "codemirror_mode": {
    "name": "ipython",
    "version": 3
   },
   "file_extension": ".py",
   "mimetype": "text/x-python",
   "name": "python",
   "nbconvert_exporter": "python",
   "pygments_lexer": "ipython3",
   "version": "3.6.5"
  }
 },
 "nbformat": 4,
 "nbformat_minor": 2
}
