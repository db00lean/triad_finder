{
 "cells": [
  {
   "cell_type": "markdown",
   "metadata": {},
   "source": [
    "# Initial Implementation\n",
    "\n",
    "## Library Imports\n",
    "\n",
    "Here, the necessary libraries are imported"
   ]
  },
  {
   "cell_type": "code",
   "execution_count": 145,
   "metadata": {},
   "outputs": [],
   "source": [
    "import matplotlib.pyplot as plt\n",
    "import numpy as np\n",
    "from scipy.io import wavfile"
   ]
  },
  {
   "cell_type": "markdown",
   "metadata": {},
   "source": [
    "## Filename\n",
    "\n",
    "This declares the filename variable for the sample wavefile. It is a recording of an Bass E string strum, from [this recording](https://freesound.org/people/Kyster/sounds/117677/) on freesound.org."
   ]
  },
  {
   "cell_type": "code",
   "execution_count": 146,
   "metadata": {},
   "outputs": [],
   "source": [
    "FILE = \"E_string_sample.wav\""
   ]
  },
  {
   "cell_type": "markdown",
   "metadata": {},
   "source": [
    "## Reading the file\n",
    "\n",
    "Here the file is read using the scipy.io.wavefile.read() function, which pulls the sample rate and the raw data. "
   ]
  },
  {
   "cell_type": "code",
   "execution_count": 147,
   "metadata": {},
   "outputs": [],
   "source": [
    "def read_wav(filename):\n",
    "    return wavfile.read(filename)"
   ]
  },
  {
   "cell_type": "markdown",
   "metadata": {},
   "source": [
    "## Plotting wavefile\n",
    "\n",
    "This function plots the data that was read from the wavefile."
   ]
  },
  {
   "cell_type": "code",
   "execution_count": 148,
   "metadata": {},
   "outputs": [],
   "source": [
    "def plot_wav(sample_rate, data):\n",
    "    length = data.shape[0] / sample_rate\n",
    "    \n",
    "    # prints the information from the file\n",
    "    print(f\"Recording length: {length:.3f}s\")\n",
    "    print(f\"Sample Rate: {sample_rate}Hz\")\n",
    "    \n",
    "    # creates a time array for plotting\n",
    "    time = np.linspace(0., length, data.shape[0])\n",
    "    \n",
    "    # uses matplot.lib for plotting functions, plotting both audio channels\n",
    "    plt.plot(time, data[:, 0], label=\"Left channel\")\n",
    "    plt.plot(time, data[:, 1], label=\"Right channel\")\n",
    "    plt.legend()\n",
    "    plt.xlabel(\"Time [s]\")\n",
    "    plt.ylabel(\"Amplitude\")\n",
    "    plt.show()"
   ]
  },
  {
   "cell_type": "markdown",
   "metadata": {},
   "source": [
    "## Perform FFT\n",
    "\n",
    "This uses the numpy real FFT function to do a real-FFT on the data inputted to the function."
   ]
  },
  {
   "cell_type": "code",
   "execution_count": 149,
   "metadata": {},
   "outputs": [],
   "source": [
    "def do_fft(signal, sample_rate):\n",
    "    fft_spectrum = np.fft.rfft(signal)\n",
    "    freq = np.fft.rfftfreq(signal.size, d=1./sample_rate)  # get frequency values of FFT\n",
    "    fft_spectrum_abs = np.abs(fft_spectrum)  # compute absolute value of FFT plot\n",
    "    return freq, fft_spectrum_abs"
   ]
  },
  {
   "cell_type": "markdown",
   "metadata": {},
   "source": [
    "## Plot FFT\n",
    "\n",
    "This function takes in the frequency and FFT datasets and plots them using the matplot.lib functions."
   ]
  },
  {
   "cell_type": "code",
   "execution_count": 150,
   "metadata": {},
   "outputs": [],
   "source": [
    "def plot_fft(freq_array, fft_array):\n",
    "    plt.plot(freq_array, fft_array)\n",
    "    plt.xlabel(\"frequency, Hz\")\n",
    "    plt.ylabel(\"Amplitude, units\")\n",
    "    plt.show()"
   ]
  },
  {
   "cell_type": "markdown",
   "metadata": {},
   "source": [
    "## Get Max frequency\n",
    "\n",
    "This function returns the frequency (in Hz) of the maximum amplitude from the FFT dataset and looking it up in the frequency dataset."
   ]
  },
  {
   "cell_type": "code",
   "execution_count": 151,
   "metadata": {},
   "outputs": [],
   "source": [
    "def get_freq(freq_array, fft_array):\n",
    "    i = np.where(fft_array == max(fft_array))\n",
    "    return float(freq_array[i[0]])"
   ]
  },
  {
   "cell_type": "markdown",
   "metadata": {},
   "source": [
    "## Get Closest Note\n",
    "\n",
    "This function returns the string of the closest note depending on the pitch frequency given."
   ]
  },
  {
   "cell_type": "code",
   "execution_count": 161,
   "metadata": {},
   "outputs": [],
   "source": [
    "def get_note(pitch_freq):\n",
    "    CONCERT_PITCH = 440 # tuning standard in music\n",
    "    ALL_NOTES = [\"A\",\"A#\",\"B\",\"C\",\"C#\",\"D\",\"D#\",\"E\",\"F\",\"F#\",\"G\",\"G#\"] # musical notes arranged properly\n",
    "    i = int(np.round(np.log2(pitch_freq/CONCERT_PITCH)*12))\n",
    "    return ALL_NOTES[i % 12] + str(4 + (i + 9) // 12)"
   ]
  },
  {
   "cell_type": "markdown",
   "metadata": {},
   "source": [
    "## Run for timeit\n",
    "\n",
    "This function runs all the function without the plots in order for software implementation timing."
   ]
  },
  {
   "cell_type": "code",
   "execution_count": 164,
   "metadata": {},
   "outputs": [],
   "source": [
    "def run_timed():\n",
    "    sample_rate, data = read_wav(FILE)\n",
    "    freq, fft = do_fft(data[:sample_rate,0], sample_rate) # only use one channel, 1 second of data\n",
    "    wav_freq = get_freq(freq, fft)\n",
    "    note = get_note(wav_freq)"
   ]
  },
  {
   "cell_type": "code",
   "execution_count": 165,
   "metadata": {},
   "outputs": [
    {
     "name": "stdout",
     "output_type": "stream",
     "text": [
      "10 loops, best of 3: 85.8 ms per loop\n"
     ]
    }
   ],
   "source": [
    "%timeit run_timed()"
   ]
  },
  {
   "cell_type": "markdown",
   "metadata": {},
   "source": [
    "## Run\n",
    "\n",
    "This function runs the all the functions with the plots for visualization of the data."
   ]
  },
  {
   "cell_type": "code",
   "execution_count": 162,
   "metadata": {},
   "outputs": [],
   "source": [
    "def run():\n",
    "    sample_rate, data = read_wav(FILE)\n",
    "    plot_wav(sample_rate, data)\n",
    "    freq, fft = do_fft(data[:sample_rate,0], sample_rate) # only use one channel, 1 second of data\n",
    "    plot_fft(freq[:10000], fft[:10000])\n",
    "    wav_freq = get_freq(freq[:10000], fft[:10000])\n",
    "    print(f\"Recording Frequency: {wav_freq:.3f}Hz\")\n",
    "    note = get_note(wav_freq)\n",
    "    print(\"Recording Note: \" + note)"
   ]
  },
  {
   "cell_type": "code",
   "execution_count": 163,
   "metadata": {},
   "outputs": [
    {
     "name": "stdout",
     "output_type": "stream",
     "text": [
      "Recording length: 9.102s\n",
      "Sample Rate: 48000Hz\n"
     ]
    },
    {
     "data": {
      "image/png": "[encoded data removed]",
      "text/plain": [
       "<matplotlib.figure.Figure at 0xad723870>"
      ]
     },
     "metadata": {},
     "output_type": "display_data"
    },
    {
     "data": {
      "image/png": "[encoded data removed]",
      "text/plain": [
       "<matplotlib.figure.Figure at 0xadff0910>"
      ]
     },
     "metadata": {},
     "output_type": "display_data"
    },
    {
     "name": "stdout",
     "output_type": "stream",
     "text": [
      "Recording Frequency: 332.000Hz\n",
      "Recording Note: E4\n"
     ]
    }
   ],
   "source": [
    "run()"
   ]
  },
  {
   "cell_type": "markdown",
   "metadata": {},
   "source": [
    "## Expected Result\n",
    "\n",
    "According to this [link](https://en.wikipedia.org/wiki/Guitar_tunings), the Bass E4 string (what the recording contains) should be 329.63Hz. The code should produce a number rather similar to the expected value (might be a little off, ~332Hz). The get_node function should then return as the closest node according to the given frequency of ~332Hz, which is the E4 note."
   ]
  }
 ],
 "metadata": {
  "kernelspec": {
   "display_name": "Python 3",
   "language": "python",
   "name": "python3"
  },
  "language_info": {
   "codemirror_mode": {
    "name": "ipython",
    "version": 3
   },
   "file_extension": ".py",
   "mimetype": "text/x-python",
   "name": "python",
   "nbconvert_exporter": "python",
   "pygments_lexer": "ipython3",
   "version": "3.6.5"
  }
 },
 "nbformat": 4,
 "nbformat_minor": 2
}
